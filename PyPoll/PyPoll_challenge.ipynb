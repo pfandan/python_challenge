{
 "cells": [
  {
   "cell_type": "code",
   "execution_count": 4,
   "id": "a414a798",
   "metadata": {},
   "outputs": [],
   "source": [
    "import csv\n",
    "import os\n"
   ]
  },
  {
   "cell_type": "code",
   "execution_count": 38,
   "id": "34b38cc8",
   "metadata": {},
   "outputs": [
    {
     "name": "stdout",
     "output_type": "stream",
     "text": [
      "Election Results \n",
      "\n",
      "------------------------ \n",
      "\n",
      "Total Votes:  369711 \n",
      "\n",
      "------------------------ \n",
      "\n",
      "Charles Casper Stockham : 23.049 % ( 85213 ) \n",
      "\n",
      "Diana DeGette : 73.812 % ( 272892 ) \n",
      "\n",
      "Raymon Anthony Doane : 3.139 % ( 11606 ) \n",
      "\n",
      "--------------------------- \n",
      "\n",
      "winner : Diana DeGette ( 272892 )\n",
      "--------------------------- \n",
      "\n"
     ]
    }
   ],
   "source": [
    " # Load CSV\n",
    "csvpath = os.path.join(\"Resources\" , \"election_data.csv\")\n",
    "with open(csvpath) as csvfile:\n",
    " \n",
    " #Read CSV  \n",
    "    reader_object = csv.reader(csvfile)\n",
    " #Skip header row \n",
    "    next(reader_object)\n",
    "  \n",
    " #Define variables\n",
    "    votes =0 \n",
    "    candidates_dict = {}\n",
    "    final_list = []\n",
    "    i=0\n",
    "    \n",
    "    #set the output of the text file\n",
    "    output_log_path = \"PyPoll_analysis.txt\"\n",
    "    \n",
    "    for row in reader_object:\n",
    " # Calculates Total Numbers of Votes \n",
    "        votes = votes+1 \n",
    "        if row[2] not in candidates_dict:\n",
    "         candidates_dict[row[2]]=0\n",
    "        candidates_dict[row[2]]=candidates_dict[row[2]]+1\n",
    "   \n",
    " #format the print for Election results \n",
    "with open( output_log_path, 'w') as file:\n",
    "    print(\"Election Results\",'\\n')\n",
    "    print(\"------------------------\",'\\n')\n",
    "    print(\"Total Votes: \",votes, '\\n') \n",
    "    print(\"------------------------\",'\\n') \n",
    "    \n",
    "# Write to output file\n",
    "    file.write(\"Election Results \\n\")\n",
    "    file.write(\"------------------------\\n\")\n",
    "    file.write(\"Total Votes: %d\\n\" % votes)\n",
    "    file.write(\"------------------------\\n\")\n",
    "    \n",
    "#list comprehension method\n",
    "    #final_list = [{'name': cand_name,'Percentage' : round(candidates_dict[cand_name]/369711*100,2), 'votes': candidates_dict[cand_name]} for cand_name in candidates_dict]                       \n",
    "    \n",
    "    \n",
    "    for cand_name in candidates_dict:\n",
    "        final_list.append({'name': cand_name,'Percentage' : round(candidates_dict[cand_name]/369711*100,3), 'votes': candidates_dict[cand_name]})   \n",
    "        \n",
    "#format the print\n",
    "        print(final_list[i]['name'], ':',final_list[i]['Percentage'],'%','(',final_list[i]['votes'], ')', '\\n')\n",
    "        file.write(\"%s : %.3f%% (%d)\\n\" %(final_list[i]['name'],final_list[i]['Percentage'],final_list[i]['votes']))\n",
    "        i+=1\n",
    "        \n",
    "# Find the key with the max votes     \n",
    "    winner = max(candidates_dict, key=candidates_dict.get)\n",
    "    max_votes = max(candidates_dict.values())\n",
    "    \n",
    "    \n",
    "    print(\"---------------------------\",'\\n')\n",
    "    print(\"winner :\", winner , \"(\", max_votes, \")\")\n",
    "    print(\"---------------------------\",'\\n')\n",
    "    \n",
    "    file.write(\"---------------------------\\n\")\n",
    "    file.write(\"winner : %s \\n\" %winner)\n",
    "    file.write(\"---------------------------\\n\")\n",
    "    \n",
    "    \n",
    "    \n",
    "    \n",
    "    \n",
    "    "
   ]
  },
  {
   "cell_type": "code",
   "execution_count": null,
   "id": "a66bcc32",
   "metadata": {},
   "outputs": [],
   "source": []
  }
 ],
 "metadata": {
  "kernelspec": {
   "display_name": "Python 3 (ipykernel)",
   "language": "python",
   "name": "python3"
  },
  "language_info": {
   "codemirror_mode": {
    "name": "ipython",
    "version": 3
   },
   "file_extension": ".py",
   "mimetype": "text/x-python",
   "name": "python",
   "nbconvert_exporter": "python",
   "pygments_lexer": "ipython3",
   "version": "3.9.13"
  }
 },
 "nbformat": 4,
 "nbformat_minor": 5
}
